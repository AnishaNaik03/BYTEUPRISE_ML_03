{
  "cells": [
    {
      "cell_type": "code",
      "execution_count": null,
      "metadata": {
        "id": "bQ_P4Bu5eKMg"
      },
      "outputs": [],
      "source": [
        "import pandas as pd\n",
        "import numpy as np\n",
        "import matplotlib.pyplot as plt\n",
        "import os\n",
        "import cv2\n",
        "from skimage.io import imread\n",
        "from skimage.transform import resize\n",
        "from google.colab.patches import cv2_imshow\n",
        "import pickle\n",
        "import random\n",
        "from sklearn.svm import SVC\n",
        "from sklearn.model_selection import train_test_split"
      ]
    },
    {
      "cell_type": "code",
      "execution_count": null,
      "metadata": {
        "colab": {
          "base_uri": "https://localhost:8080/"
        },
        "id": "-VNhTlJ6hOEc",
        "outputId": "f3e41967-4b2c-40a1-ffcd-3022e9d716ab"
      },
      "outputs": [
        {
          "output_type": "stream",
          "name": "stdout",
          "text": [
            "Dataset URL: https://www.kaggle.com/datasets/bhavikjikadara/dog-and-cat-classification-dataset\n",
            "License(s): Apache 2.0\n",
            "Downloading dog-and-cat-classification-dataset.zip to /content\n",
            "100% 774M/775M [00:40<00:00, 19.6MB/s]\n",
            "100% 775M/775M [00:40<00:00, 20.0MB/s]\n"
          ]
        }
      ],
      "source": [
        "!kaggle datasets download -d bhavikjikadara/dog-and-cat-classification-dataset"
      ]
    },
    {
      "cell_type": "markdown",
      "metadata": {
        "id": "E9JBLrg-34Lt"
      },
      "source": []
    },
    {
      "cell_type": "code",
      "execution_count": null,
      "metadata": {
        "id": "3HAF8SLihhj9"
      },
      "outputs": [],
      "source": [
        "!unzip \\*.zip && rm *.zip"
      ]
    },
    {
      "cell_type": "code",
      "execution_count": null,
      "metadata": {
        "id": "eUUd8AKciF7b"
      },
      "outputs": [],
      "source": [
        "dir='/content/PetImages'"
      ]
    },
    {
      "cell_type": "code",
      "execution_count": null,
      "metadata": {
        "colab": {
          "base_uri": "https://localhost:8080/"
        },
        "id": "XxV6Q-wj7sMD",
        "outputId": "9519c44f-5316-4e15-9e72-f481877d3996"
      },
      "outputs": [
        {
          "output_type": "stream",
          "name": "stdout",
          "text": [
            "24946\n"
          ]
        }
      ],
      "source": [
        "categories = ['Cat', 'Dog']\n",
        "data = []\n",
        "\n",
        "for category in categories:\n",
        "    path = os.path.join(dir, category)\n",
        "    label=categories.index(category)\n",
        "    for img in os.listdir(path):\n",
        "        imgpath = os.path.join(path, img)\n",
        "        pet_img = cv2.imread(imgpath, 0)\n",
        "        try:\n",
        "            pet_img=cv2.resize(pet_img,(50,50))\n",
        "            image=np.array(pet_img).flatten()\n",
        "\n",
        "            data.append([image,label])\n",
        "        except Exception as e:\n",
        "            pass\n",
        "\n",
        "print(len(data))\n",
        "\n",
        "    #     cv2_imshow(pet_img)\n",
        "    #     break\n",
        "    # break\n"
      ]
    },
    {
      "cell_type": "code",
      "execution_count": null,
      "metadata": {
        "id": "bWCOAN687-mn"
      },
      "outputs": [],
      "source": [
        "pick_in=open('data1.pickle','wb')\n",
        "pickle.dump(data,pick_in)\n",
        "pick_in.close()"
      ]
    },
    {
      "cell_type": "code",
      "execution_count": null,
      "metadata": {
        "id": "7e7ajJQO-oIW"
      },
      "outputs": [],
      "source": [
        "pick_in=open('data1.pickle','rb')\n",
        "data=pickle.load(pick_in)\n",
        "pick_in.close()\n",
        "\n",
        "random.shuffle(data)\n",
        "features=[]\n",
        "labels=[]\n",
        "\n",
        "for feature,label in data:\n",
        "    features.append(feature)\n",
        "    labels.append(label)"
      ]
    },
    {
      "cell_type": "markdown",
      "metadata": {
        "id": "C3DAu2KfAzMt"
      },
      "source": []
    },
    {
      "cell_type": "markdown",
      "metadata": {
        "id": "7JzvtBZ7Azkr"
      },
      "source": []
    },
    {
      "cell_type": "code",
      "execution_count": null,
      "metadata": {
        "id": "duR3ywJlAhK8"
      },
      "outputs": [],
      "source": [
        "xtrain,xtest,ytrain,ytest=train_test_split(features,labels,test_size=0.010)"
      ]
    },
    {
      "cell_type": "code",
      "execution_count": null,
      "metadata": {
        "id": "Irah1of-Au6u"
      },
      "outputs": [],
      "source": [
        "model=SVC(C=1,kernel='poly',gamma='auto')\n",
        "model.fit(xtrain,ytrain)\n",
        "\n",
        "pick=open('model.sav','wb')\n",
        "pickle.dump(model,pick)\n",
        "pick.close()\n"
      ]
    },
    {
      "cell_type": "code",
      "execution_count": null,
      "metadata": {
        "colab": {
          "base_uri": "https://localhost:8080/",
          "height": 467
        },
        "id": "ICgw6RDTAhV1",
        "outputId": "ad31ea66-91ec-4b29-f762-4132fe42dcaf"
      },
      "outputs": [
        {
          "output_type": "stream",
          "name": "stdout",
          "text": [
            "Accuracy: 0.552\n",
            "Prediction: Dog\n"
          ]
        },
        {
          "output_type": "display_data",
          "data": {
            "text/plain": [
              "<Figure size 640x480 with 1 Axes>"
            ],
            "image/png": "[encoded data removed]"
          },
          "metadata": {}
        }
      ],
      "source": [
        "pick=open('model1.sav','rb')\n",
        "model=pickle.load(pick)\n",
        "pick.close()\n",
        "\n",
        "prediction=model.predict(xtest)\n",
        "accuracy=model.score(xtest,ytest)\n",
        "categories=['Cat','Dog']\n",
        "\n",
        "print('Accuracy:',accuracy)\n",
        "print('Prediction:',categories[prediction[0]])\n",
        "\n",
        "mypet=xtest[0].reshape(50,50)\n",
        "plt.imshow(mypet,cmap='gray')\n",
        "plt.show()"
      ]
    }
  ],
  "metadata": {
    "colab": {
      "provenance": [],
      "toc_visible": true
    },
    "kernelspec": {
      "display_name": "Python 3",
      "name": "python3"
    },
    "language_info": {
      "name": "python"
    }
  },
  "nbformat": 4,
  "nbformat_minor": 0
}